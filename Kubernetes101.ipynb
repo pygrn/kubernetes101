{
 "cells": [
  {
   "cell_type": "code",
   "execution_count": 2,
   "metadata": {
    "slideshow": {
     "slide_type": "skip"
    }
   },
   "outputs": [
    {
     "data": {
      "text/plain": [
       "{'transition': 'zoom',\n",
       " 'start_slideshow_at': 'selected',\n",
       " 'footer': '<h3>Python Girona 2019</h3>'}"
      ]
     },
     "execution_count": 2,
     "metadata": {},
     "output_type": "execute_result"
    }
   ],
   "source": [
    "#!/usr/bin/env python3\n",
    "from traitlets.config.manager import BaseJSONConfigManager\n",
    "cm = BaseJSONConfigManager()\n",
    "cm.update(\n",
    "    \"rise\",\n",
    "    {\n",
    "        \"transition\": \"zoom\",\n",
    "        \"start_slideshow_at\": \"selected\",\n",
    "        \"footer\": \"<h3>Python Girona 2019</h3>\"\n",
    "    }\n",
    ")"
   ]
  },
  {
   "cell_type": "markdown",
   "metadata": {
    "slideshow": {
     "slide_type": "slide"
    }
   },
   "source": [
    "# Kubernetes 101\n",
    "\n",
    "\n",
    "---------------- \n",
    "\n",
    "Python Girona - September 2019\n",
    "\n",
    "-----------------\n",
    "\n",
    "[Jordi Bagot](https://github.com/jbagot), [Xavi Torelló](https://github.com/XaviTorello)"
   ]
  },
  {
   "cell_type": "markdown",
   "metadata": {
    "slideshow": {
     "slide_type": "slide"
    }
   },
   "source": [
    "# Remember\n",
    "\n",
    "- Container\n",
    "- Docker\n",
    "- Docker file\n",
    "- Docker build\n",
    "\n",
    "You can check the docker101 slides:\n",
    "\n",
    "https://github.com/pygrn/docker101/tree/a0d402917ec3fab8e8036a9d4cbf57f04c89290d\n"
   ]
  },
  {
   "cell_type": "markdown",
   "metadata": {
    "slideshow": {
     "slide_type": "slide"
    }
   },
   "source": [
    "# Curiosities of Kubernetes\n",
    "\n",
    "- kubernetes = k(ubernete)s = k8s\n",
    "- Created by Google in 2014, based on Borg (Google container orchestrator)\n",
    "- It's open source\n",
    "- Mainteined by the Cloud Native Computing Foundation"
   ]
  },
  {
   "cell_type": "markdown",
   "metadata": {
    "slideshow": {
     "slide_type": "slide"
    }
   },
   "source": [
    "# What's k8s?\n",
    "\n",
    "- Container orchestrator\n",
    "- The most famous one\n",
    "- Layer to manage a cluster of containers\n",
    "- Auto-scaling"
   ]
  },
  {
   "cell_type": "markdown",
   "metadata": {
    "slideshow": {
     "slide_type": "subslide"
    }
   },
   "source": [
    "## Container orchestrator\n",
    "\n",
    "- Easy deploy, gracefully, stateless\n",
    "- Replication: run X copies\n",
    "- Built-in load balancers\n",
    "- Auto-scaling: better resource use"
   ]
  },
  {
   "cell_type": "markdown",
   "metadata": {
    "slideshow": {
     "slide_type": "subslide"
    }
   },
   "source": [
    "## Layer to manage a cluster\n",
    "\n",
    "- Manifest: one file to define all your cluster\n",
    "- Automate cluster maintenance\n",
    "- Load balancers\n",
    "- Manage secrets"
   ]
  },
  {
   "cell_type": "markdown",
   "metadata": {
    "slideshow": {
     "slide_type": "subslide"
    }
   },
   "source": [
    "## Scalability\n",
    "\n",
    "- Specify number of container replicas\n",
    "- Auto pod scaling, based on CPU, memory or custom metrics\n",
    "- It's a cluster, add more nodes"
   ]
  },
  {
   "cell_type": "markdown",
   "metadata": {
    "slideshow": {
     "slide_type": "slide"
    }
   },
   "source": [
    "# Kubernetes structure\n",
    "\n",
    "- Pod\n",
    "- Service\n",
    "- Namespace\n",
    "- Node\n"
   ]
  },
  {
   "cell_type": "markdown",
   "metadata": {
    "slideshow": {
     "slide_type": "subslide"
    }
   },
   "source": [
    "## Pod\n",
    "\n",
    "- The smallest structure, minimal unit of deployment\n",
    "- One or more containers\n",
    "- One IP\n",
    "- Stateless"
   ]
  },
  {
   "cell_type": "markdown",
   "metadata": {
    "slideshow": {
     "slide_type": "subslide"
    }
   },
   "source": [
    "# How can we access the pods? \n",
    "\n",
    "## There are multiple of them, each one with one IP..."
   ]
  },
  {
   "cell_type": "markdown",
   "metadata": {
    "slideshow": {
     "slide_type": "subslide"
    }
   },
   "source": [
    "# with Services"
   ]
  },
  {
   "cell_type": "markdown",
   "metadata": {
    "slideshow": {
     "slide_type": "subslide"
    }
   },
   "source": [
    "## Service\n",
    "\n",
    "- Group of pods\n",
    "- Built-in load balancer\n",
    "- Own static IP"
   ]
  },
  {
   "cell_type": "markdown",
   "metadata": {
    "slideshow": {
     "slide_type": "subslide"
    }
   },
   "source": [
    "![alt text](pictures/service.png \"Services\")"
   ]
  },
  {
   "cell_type": "markdown",
   "metadata": {
    "slideshow": {
     "slide_type": "subslide"
    }
   },
   "source": [
    "## Namespace\n",
    "\n",
    "- Contain services, pods, network\n",
    "- Isolated with other namespaces\n",
    "- Is common to use it to separete environments"
   ]
  },
  {
   "cell_type": "markdown",
   "metadata": {
    "slideshow": {
     "slide_type": "subslide"
    }
   },
   "source": [
    "## Node\n",
    "\n",
    "- Hosts, servers\n",
    "- Multiple nodes form the cluster"
   ]
  },
  {
   "cell_type": "markdown",
   "metadata": {
    "slideshow": {
     "slide_type": "subslide"
    }
   },
   "source": [
    "![alt text](pictures/kubernetes_cluster.png \"Kubernetes cluster\")"
   ]
  },
  {
   "cell_type": "markdown",
   "metadata": {
    "slideshow": {
     "slide_type": "subslide"
    }
   },
   "source": [
    "# Volume\n",
    "\n",
    "- Stateful applications\n",
    "- A volume is a mapped directory where the pods will point to get the data from it\n",
    "- Persistent"
   ]
  },
  {
   "cell_type": "markdown",
   "metadata": {
    "slideshow": {
     "slide_type": "subslide"
    }
   },
   "source": [
    "![alt text](pictures/pv.png \"Persistent volume\")"
   ]
  },
  {
   "cell_type": "markdown",
   "metadata": {
    "slideshow": {
     "slide_type": "slide"
    }
   },
   "source": [
    "# Liveness and readiness\n",
    "\n",
    "- Same function as supervisor\n",
    "- Check if the services are running\n",
    "- Spin up new pods if the probes fail"
   ]
  },
  {
   "cell_type": "markdown",
   "metadata": {
    "slideshow": {
     "slide_type": "slide"
    }
   },
   "source": [
    "# DNS - Ingress\n",
    "\n",
    "![alt text](pictures/ingress1.png \"ingress 1\")"
   ]
  },
  {
   "cell_type": "markdown",
   "metadata": {
    "slideshow": {
     "slide_type": "fragment"
    }
   },
   "source": [
    "![alt text](pictures/ingress2.png \"ingress2\")"
   ]
  },
  {
   "cell_type": "markdown",
   "metadata": {
    "slideshow": {
     "slide_type": "subslide"
    }
   },
   "source": [
    "![alt text](pictures/ingress3.png \"ingress3\")"
   ]
  },
  {
   "cell_type": "markdown",
   "metadata": {
    "slideshow": {
     "slide_type": "slide"
    }
   },
   "source": [
    "# kubectl\n",
    "\n",
    "- API to connect and manage the cluster\n",
    "- Used in local\n",
    "- Used to deploy in the pipelines"
   ]
  },
  {
   "cell_type": "markdown",
   "metadata": {
    "slideshow": {
     "slide_type": "slide"
    }
   },
   "source": [
    "# WebUI\n",
    "![alt text](pictures/deploy_webui.png \"Deploy webUI\")\n"
   ]
  },
  {
   "cell_type": "markdown",
   "metadata": {
    "slideshow": {
     "slide_type": "subslide"
    }
   },
   "source": [
    "![alt text](pictures/webui.png \"webUI\")"
   ]
  },
  {
   "cell_type": "markdown",
   "metadata": {
    "slideshow": {
     "slide_type": "slide"
    }
   },
   "source": [
    "# helm\n",
    "\n",
    "- Help manage k8s apps\n",
    "- Charts\n",
    "- Define, install, upgrade\n",
    "- Share with the community"
   ]
  },
  {
   "cell_type": "markdown",
   "metadata": {
    "slideshow": {
     "slide_type": "subslide"
    }
   },
   "source": [
    "`helm install stable/redis --values values-production.yaml`"
   ]
  },
  {
   "cell_type": "markdown",
   "metadata": {
    "slideshow": {
     "slide_type": "slide"
    }
   },
   "source": [
    "# Deploy our app in k8s\n",
    "\n",
    "- Direct deployment from local\n",
    "- Deployment from CI/CD pipeline"
   ]
  },
  {
   "cell_type": "markdown",
   "metadata": {
    "slideshow": {
     "slide_type": "subslide"
    }
   },
   "source": [
    "## Deploy from local\n",
    "\n",
    "![alt text](pictures/kubernetes_deploy_local.png \"Deploy from local\")"
   ]
  },
  {
   "cell_type": "markdown",
   "metadata": {
    "slideshow": {
     "slide_type": "subslide"
    }
   },
   "source": [
    "## Deploy from CI/CD\n",
    "\n",
    "![alt text](pictures/kubernetes_deploy_cicd.png \"Deploy from CI/CD\")"
   ]
  }
 ],
 "metadata": {
  "celltoolbar": "Slideshow",
  "kernelspec": {
   "display_name": "Python 3",
   "language": "python",
   "name": "python3"
  },
  "language_info": {
   "codemirror_mode": {
    "name": "ipython",
    "version": 3
   },
   "file_extension": ".py",
   "mimetype": "text/x-python",
   "name": "python",
   "nbconvert_exporter": "python",
   "pygments_lexer": "ipython3",
   "version": "3.6.8"
  }
 },
 "nbformat": 4,
 "nbformat_minor": 2
}
